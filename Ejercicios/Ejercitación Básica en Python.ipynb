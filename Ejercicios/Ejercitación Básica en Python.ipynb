{
 "cells": [
  {
   "cell_type": "markdown",
   "metadata": {},
   "source": [
    "# Ejercitación Básica en Python\n",
    "\n",
    "Los siguientes ejercicios tienen como objetivo introducir al alumno en la programación en Python.  \n",
    "Los mismos están ordenados por dificultad ascendente y fueron extraídos de http://www.practicepython.org/.\n",
    "En dicha página hay información adicional sobre cada ejercicio. Se recomienda leer cada link con detenimiento ya que los recursos para realizar la resolución se encuentran explicados con detalle."
   ]
  },
  {
   "cell_type": "markdown",
   "metadata": {},
   "source": [
    "[Ejercicio 1](http://www.practicepython.org/exercise/2014/01/29/01-character-input.html)\n",
    "- Escribir un programa que pregunte al usuario su nombre y la edad. \n",
    "- Imprimir un mensaje dirigido al usuario que le diga en qué año va a tener 100 años."
   ]
  },
  {
   "cell_type": "code",
   "execution_count": 2,
   "metadata": {},
   "outputs": [
    {
     "name": "stdout",
     "output_type": "stream",
     "text": [
      "Escriba su nombre:Marcelo\n",
      "Marcelo\n"
     ]
    }
   ],
   "source": [
    "nombre=input(\"Escriba su nombre:\")\n",
    "print (nombre)"
   ]
  },
  {
   "cell_type": "markdown",
   "metadata": {},
   "source": [
    "[Ejercicio 2](http://www.practicepython.org/exercise/2014/02/05/02-odd-or-even.html)\n",
    "- Pedir al usuario que ingrese un número.\n",
    "- Imprimir un mensaje indicando si el número es par o impar."
   ]
  },
  {
   "cell_type": "code",
   "execution_count": 2,
   "metadata": {},
   "outputs": [
    {
     "name": "stdout",
     "output_type": "stream",
     "text": [
      "escribir un número43\n",
      "43\n",
      "1\n",
      "Impar\n"
     ]
    }
   ],
   "source": [
    "numero=int(input(\"escribir un número\"))\n",
    "print(numero)\n",
    "algo=numero%2\n",
    "print(algo)\n",
    "if algo>0: \n",
    "    print(\"Impar\") \n",
    "else: \n",
    "    print(\"Par\")"
   ]
  },
  {
   "cell_type": "markdown",
   "metadata": {},
   "source": [
    "[Ejercicio 3](http://www.practicepython.org/exercise/2014/02/15/03-list-less-than-ten.html):\n",
    "\n",
    "- Escribir un programa que imprima todos los elementos de una lista que sean menores al 5.\n",
    "\n"
   ]
  },
  {
   "cell_type": "code",
   "execution_count": 10,
   "metadata": {},
   "outputs": [
    {
     "name": "stdout",
     "output_type": "stream",
     "text": [
      "2\n",
      "2\n",
      "4\n",
      "6\n",
      "10\n"
     ]
    }
   ],
   "source": [
    "a = [1, 1, 2, 3, 5, 8, 13, 21, 34, 55, 89]\n",
    "for i in a:\n",
    "    if i < 6:\n",
    "        print(i)\n",
    "    \n",
    "    "
   ]
  },
  {
   "cell_type": "markdown",
   "metadata": {},
   "source": [
    "[Ejercicio 4](http://www.practicepython.org/exercise/2014/02/26/04-divisors.html)\n",
    "- Pedir al usuario que ingrese un número.\n",
    "- Imprimir todos los divisores del número ingresado."
   ]
  },
  {
   "cell_type": "code",
   "execution_count": 25,
   "metadata": {},
   "outputs": [
    {
     "name": "stdout",
     "output_type": "stream",
     "text": [
      "Enter a number:7\n",
      "[0, 7, 14, 21, 28, 35, 42, 49, 56, 63, 70, 77, 84, 91, 98]\n"
     ]
    }
   ],
   "source": [
    "user_choice= int(input('Enter a number:')) \n",
    "numbers= range(0,100)\n",
    "x=[]\n",
    "for num in numbers:\n",
    "    if num % user_choice ==0:\n",
    "        x.append(num)\n",
    "print (x)"
   ]
  },
  {
   "cell_type": "markdown",
   "metadata": {},
   "source": [
    "[Ejercicio 5](http://www.practicepython.org/exercise/2014/03/05/05-list-overlap.html)\n",
    "- Escribir un programa que a partir de dos listas, devuelva los elementos comunes entre las dos listas.\n",
    "- La salida deberá no tener elementos duplicados.\n",
    "- Asegúrese que su programa funcione para dos listas de distintos tamaños."
   ]
  },
  {
   "cell_type": "code",
   "execution_count": 44,
   "metadata": {},
   "outputs": [
    {
     "name": "stdout",
     "output_type": "stream",
     "text": [
      "range(-1, 6)\n",
      "range(-2, 10)\n",
      "This student:-1 is enrolled.\n",
      "This student:0 is enrolled.\n",
      "This student:1 is enrolled.\n",
      "This student:2 is enrolled.\n",
      "This student:3 is enrolled.\n",
      "This student:4 is enrolled.\n",
      "This student:5 is enrolled.\n"
     ]
    }
   ],
   "source": [
    "na= range(-1,6)\n",
    "nb= range(-2,10)\n",
    "print (na)\n",
    "print (nb)\n",
    "for i in na:\n",
    "    if i in nb:\n",
    "        print(\"This student:\" + str(i) + \" is enrolled.\")"
   ]
  },
  {
   "cell_type": "markdown",
   "metadata": {},
   "source": [
    "[Ejercicio 6](http://www.practicepython.org/exercise/2014/03/12/06-string-lists.html)\n",
    "- Pedir al usuario que ingrese un texto.\n",
    "- Imprimir un mensaje que indique si el texto ingresado es un paĺíndromo o no."
   ]
  },
  {
   "cell_type": "code",
   "execution_count": 60,
   "metadata": {},
   "outputs": [
    {
     "name": "stdout",
     "output_type": "stream",
     "text": [
      "Ingrese una palabra:anana\n",
      "one letter: a\n",
      "one letter: n\n",
      "one letter: a\n",
      "one letter: n\n",
      "one letter: a\n",
      "Es igual\n"
     ]
    }
   ],
   "source": [
    "string=input(\"Ingrese una palabra:\")\n",
    "for c in string: \n",
    "    print (\"one letter: \" + c)\n",
    "    string_reversed = string[::-1]\n",
    "if string==string_reversed:\n",
    "    print(\"Es igual\")\n",
    "else:\n",
    "    print(\"No Es igual\")    \n"
   ]
  },
  {
   "cell_type": "markdown",
   "metadata": {},
   "source": [
    "[Ejercicio 7](http://www.practicepython.org/exercise/2014/03/19/07-list-comprehensions.html)\n",
    "- Escribir un programa que a partir de una lista, devuelva una lista que solo contenga los elementos pares.\n",
    "- La selección de elementos deberá hacerse en una sola línea de código."
   ]
  },
  {
   "cell_type": "code",
   "execution_count": 11,
   "metadata": {},
   "outputs": [
    {
     "name": "stdout",
     "output_type": "stream",
     "text": [
      "0\n",
      "2\n",
      "4\n",
      "6\n",
      "8\n",
      "10\n",
      "12\n",
      "14\n",
      "16\n",
      "18\n",
      "0\n",
      "2\n",
      "4\n",
      "6\n",
      "8\n",
      "10\n",
      "12\n",
      "14\n",
      "16\n",
      "18\n"
     ]
    }
   ],
   "source": [
    "lista= range(0,20)\n",
    "matriz=[]\n",
    "for i in lista:\n",
    "    if (i%2)==0:\n",
    "        matriz.append(i)\n",
    "for c in matriz:\n",
    "        print(c)\n",
    "b = [elem for elem in lista if elem % 2 == 0]\n",
    "for a in b:\n",
    "    print(a)"
   ]
  },
  {
   "cell_type": "markdown",
   "metadata": {},
   "source": [
    "[Ejercicio 10](http://www.practicepython.org/exercise/2014/04/10/10-list-overlap-comprehensions.html)\n",
    "- Al igual que en el ejercicio 5, a partir de dos listas, se ddeberán devolver los elementos comunes entre las dos listas.\n",
    "- La salida deberá no tener elementos duplicados.\n",
    "- Se deberán utilizar list comprenhensions."
   ]
  },
  {
   "cell_type": "code",
   "execution_count": 17,
   "metadata": {
    "scrolled": true
   },
   "outputs": [
    {
     "name": "stdout",
     "output_type": "stream",
     "text": [
      "5\n"
     ]
    }
   ],
   "source": [
    "a= range(1,6)\n",
    "b= range(5,10)\n",
    "common = [i for i in a if i in b]\n",
    "for x in common:\n",
    "    print(x)"
   ]
  },
  {
   "cell_type": "markdown",
   "metadata": {},
   "source": [
    "[Ejercicio 17](http://www.practicepython.org/exercise/2014/06/06/17-decode-a-web-page.html)\n",
    "\n",
    "- Utilizar los paquetes BeautifulSoup y request para imprimir una lista de los títulos de la página principal del [New York Times](https://www.nytimes.com/)."
   ]
  },
  {
   "cell_type": "code",
   "execution_count": 23,
   "metadata": {},
   "outputs": [
    {
     "name": "stdout",
     "output_type": "stream",
     "text": [
      "A Portrait of U.S. Housing in 83 Million Evictions\n",
      "The Murky Perils of Trying to Quit Antidepressants\n",
      "How Mega-Mergers Are Changing Medical Care\n",
      "Virginia Is Close to Expanding Medicaid After Years of Republican Opposition\n",
      "Ex-President of Brazil Surrenders to Serve 12-Year Jail Term\n",
      "In Haste to Roll Back Rules, E.P.A. Chief Risks His Agenda\n",
      "Judge’s Death Gives Trump Chance to Remake Liberal Court\n",
      "Deadly Bus Crash in Canada Devastates a Hockey Town\n",
      "Backpage.com, Accused of Enabling Prostitution, Is Seized\n",
      "Fire at Trump Tower Critically Injures One, Officials Say\n",
      "2 Dead After Driver Crashes Into Crowd in Germany, Police Say\n",
      "Facebook to Require Verified Identities for Political Ads\n",
      "London Confronts a Spate of Knife Killings\n",
      "Fashion Brands Are Big Offenders in British Gender Pay Gap\n",
      "Getting the Most From Vitamins and Mineral Supplements\n",
      "How Travelers Can Help Hurricane-Damaged Islands\n",
      "Farmers’ Anger at Tariffs Puts G.O.P. Candidates in Bind\n",
      "Why Trump’s Tariffs Could Raise the Cost of a Hip Replacement\n",
      "11 of Our Best Weekend Reads\n",
      "The Week in Good News\n",
      "In Bukhara, 10,000 Jewish Graves but Only 150 Jews\n",
      "Fund to Forgive Public Servants’ Debt Leaves Some Out\n",
      "Opera’s Miss Congeniality Takes On a Rare ‘Cinderella’\n",
      "The Strange Case of Anna Stubblefield, Revisited\n",
      "The Subway Is So Late, It’s Making New Yorkers Early\n",
      "Latinos Find Ties Where Indian Slavery Once Thrived\n",
      "What on Earth Is Going On?\n",
      "See Latest Edition »\n",
      "Review: 1920s Australia Is No ‘Sweet Country’ for Aboriginal Australians\n",
      "Gender Progress in Macho Australia?\n",
      "The Best Movies and TV Shows New to Netflix Australia in April\n",
      "Where Spring Is in Full Bloom\n",
      "No Delivery Required for the Best Beef and Broccoli\n",
      "‘Killing Eve’: Female Spy Hunts Female Assassin\n",
      "America’s Deathtrap Schools\n",
      "Smells Like Home\n",
      "Editorial: America’s Federally Financed Ghettos\n",
      "Bruni: Watch Out, Ted Cruz\n",
      "Cohen: How Democracy Became the Enemy\n",
      "Douthat: Abortion Extremists\n",
      "Dowd: What’s Lust Got to Do With It?\n",
      "Kristof: Choosing Animals Over People?\n",
      "Jesse Jackson on Race Relations, Trump and Voting\n",
      "Life After ‘17 to Life’\n",
      "My Parakeet Loves RuPaul\n",
      "Level the College Playing Field\n",
      "How to Fix the Facebook Mess\n",
      "Sowing the Seeds for ISIS 2.0\n",
      "Bolton’s Illegal War Plan\n",
      "Good Weekend Reads\n",
      "The Lone Journalist on the Scene When King Was Shot and the Newsroom He Rallied\n",
      "We Want to Hear From You\n",
      "The Lone Journalist on the Scene When King Was Shot and the Newsroom He Rallied\n",
      "Play Today’s Puzzle\n",
      "Play Today’s Puzzle\n",
      "A Dressing (or Dip) That’s Easy to Love\n",
      "I Hacked an Election. So Can the Russians.\n",
      "Star Technology to Help Endangered Species\n",
      "Listen to the Week’s Notable New Songs\n",
      "Stop the G.O.P.’s Conservation Demolition Crew\n",
      "Death and Intellectual Disabilities\n",
      "John Lewis Gaddis: By the Book\n",
      "‘Chappaquiddick’ Distorts a Tragedy\n",
      "Studies Show Little Benefit in Supplements\n",
      "Children’s Picture Books That Are Good for Adults\n",
      "Doctors-in-Training at a Rural Clinic\n",
      "11 New Books We Recommend This Week\n",
      "In Bukhara, 10,000 Jewish Graves but Just 150 Jews\n",
      "A South Korean President Is Jailed for Graft, but Few Expect Major Change\n",
      "The Disappearing Doctor: How Mega-Mergers Are Changing the Business of Medical Care\n",
      "Your Money: A $350 Million Fund Helps Many Public Servants. Meet the Ones Left Out.\n",
      "Opinion: Smells Like Home\n",
      "Opinion: America’s Deathtrap Schools\n",
      "They Did 30 Years for Someone Else’s Crime. Then Paid for It.\n",
      "Naloxone Stops Opioid Overdoses. How Do You Use It?\n",
      "Is Amazon Bad for the Postal Service? Or Its Savior?\n",
      "YouTube Attacker’s Complaints Echoed Fight Over Ad Dollars\n",
      "Forensics Helps Widen Architecture’s Mission\n",
      "Women Say Richard Meier’s Conduct Was Widely Known Yet Went Unchecked\n",
      "U.S. Seizes Backpage.com, a Site Accused of Enabling Prostitution\n",
      "On Washington: Judge’s Death Gives Trump a Chance to Remake a Vexing Court\n",
      "The Royal Wedding: Frequently Asked Questions\n",
      "The Look: ‘I Love to Fight. I Live to Fight.’\n",
      "Review: The Kids Are All Right in ‘Blockers.’ The Parents Are Dopes.\n",
      "Grace Jones on a Lifetime of Doing Whatever She Pleases\n",
      "Fire at Trump Tower Critically Injures One, Officials Say\n",
      "The Subway Is So Late, It’s Making New Yorkers Early\n",
      "At the Masters, Low-Tech Data Still Rules\n",
      "Day 2 at the Masters Starts With Mayhem and Ends With Patrick Reed in the Lead\n",
      "Lincoln Center’s President Quits After a Single, Rocky Year\n",
      "Review: In ‘Feeding the Dragon,’ an Enchanted Home Inside a Library\n",
      "Trilobites: How Do You Count Endangered Species? Look to the Stars\n",
      "Are Men Smarter Than Their Peers at Science? Men Certainly Think So, Study Shows\n",
      "Cecil Taylor, Pianist Who Defied Jazz Orthodoxy, Is Dead at 89\n",
      "La Wilson, 93, Dies; Made Art in Elaborate Assemblages\n",
      "Michael Jackson, Stevie Wonder and the Other Cultural Allusions in the Creepiest ‘Atlanta’ Episode Yet\n",
      "Review: Al Pacino Stars in HBO’s ‘Paterno,’ a Tragedy Without a Hero\n",
      "Many People Taking Antidepressants Discover They Cannot Quit\n",
      "Why Trump’s Tariffs Could Raise the Cost of a Hip Replacement\n",
      "Bites: In Verona, Pizza That Is All About the Crust\n",
      "Check In: At a Denver Hotel, Art, Yoga Mats and Loaner Bikes\n",
      "Profile: Circe, a Vilified Witch From Classical Mythology, Gets Her Own Epic\n",
      "By the Book: John Lewis Gaddis: By the Book\n",
      "Middle-Class Families Increasingly Look to Community Colleges\n",
      "With Changing Students and Times, Colleges Are Going Back to School\n",
      "A God Among Vegetables\n",
      "A Worker Shortage Is Forcing Restaurants to Get Creative\n",
      "Feature: What the Arlee Warriors Were Playing For\n",
      "Feature: Gun Culture Is My Culture. And I Fear for What It Has Become.\n",
      "Right at Home: Who Doesn’t Love to Hate-Watch HGTV?\n",
      "A Real Estate Dynasty Passes the Torch\n",
      "The March Jobs Numbers Show the Economy Is Sound, but Far From Invincible\n",
      "If There’s a U.S.-China Trade War, China May Have Some ‘Unconventional Weapons’\n",
      "A Times Reporter Returns Home to Cover a Tragedy\n",
      "Looking for Justice in the Building That Bears Its Name\n",
      "Common Sense: With Tesla in a Danger Zone, Can Model 3 Carry It to Safety?\n",
      "Overlooked No More: Bessie B. Stringfield, the ‘Motorcycle Queen of Miami’\n",
      "Things Editors Like: 6 Things T Editors Like Right Now\n",
      "The Story of a Thing: The Singer Kelela on Her Favorite Possession\n",
      "Who Doesn’t Love to Hate-Watch HGTV?\n",
      "Search for Homes for Sale or Rent\n",
      "Mortgage Calculator\n"
     ]
    }
   ],
   "source": [
    "from bs4 import BeautifulSoup\n",
    "import requests\n",
    "\n",
    "url = 'http://www.nytimes.com'\n",
    "r = requests.get(url)\n",
    "\n",
    "soup = BeautifulSoup(r.text, \"html.parser\")\n",
    "headings = soup.findAll(\"h2\", {\"class\": \"story-heading\"})\n",
    "\n",
    "for heading in headings:\n",
    "    if heading.findAll(\"a\"):\n",
    "        # .strip() removes leading/trailing whitespace\n",
    "        print(heading.a.text.strip())\n",
    "    else:\n",
    "        print(heading.text)"
   ]
  }
 ],
 "metadata": {
  "kernelspec": {
   "display_name": "Python 3",
   "language": "python",
   "name": "python3"
  },
  "language_info": {
   "codemirror_mode": {
    "name": "ipython",
    "version": 3
   },
   "file_extension": ".py",
   "mimetype": "text/x-python",
   "name": "python",
   "nbconvert_exporter": "python",
   "pygments_lexer": "ipython3",
   "version": "3.6.4"
  }
 },
 "nbformat": 4,
 "nbformat_minor": 2
}
